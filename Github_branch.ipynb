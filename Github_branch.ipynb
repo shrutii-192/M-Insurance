{
 "cells": [
  {
   "cell_type": "markdown",
   "id": "4307bbdf",
   "metadata": {},
   "source": [
    "#### 1. Clone repo"
   ]
  },
  {
   "cell_type": "code",
   "execution_count": null,
   "id": "69659d88",
   "metadata": {},
   "outputs": [],
   "source": [
    "1. git clone url\n",
    "eg: git clone https://github.com/UPEYMI/Project2.git\n",
    "for cloning git into local repository"
   ]
  },
  {
   "cell_type": "markdown",
   "id": "4e89706c",
   "metadata": {},
   "source": [
    "#### 2. git status"
   ]
  },
  {
   "cell_type": "code",
   "execution_count": null,
   "id": "1d04e745",
   "metadata": {},
   "outputs": [],
   "source": [
    "1. git status\n",
    "To know what is remain for commit"
   ]
  },
  {
   "cell_type": "markdown",
   "id": "6beb6309",
   "metadata": {},
   "source": [
    "#### 3. How to add"
   ]
  },
  {
   "cell_type": "code",
   "execution_count": null,
   "id": "203335e5",
   "metadata": {},
   "outputs": [],
   "source": [
    "git add. >> for multiple files\n",
    "git add file_name >> for single file"
   ]
  },
  {
   "cell_type": "markdown",
   "id": "7ced8d99",
   "metadata": {},
   "source": [
    "#### 4. commit"
   ]
  },
  {
   "cell_type": "code",
   "execution_count": null,
   "id": "493e5d0f",
   "metadata": {},
   "outputs": [],
   "source": [
    "git commit -m \"Message\""
   ]
  },
  {
   "cell_type": "markdown",
   "id": "6a6e6a7c",
   "metadata": {},
   "source": [
    "#### 5. git push"
   ]
  },
  {
   "cell_type": "code",
   "execution_count": null,
   "id": "c17537d5",
   "metadata": {},
   "outputs": [],
   "source": [
    "1. git push\n",
    "2. git push origin main\n",
    "to push the code to github"
   ]
  },
  {
   "cell_type": "markdown",
   "id": "bea68a7c",
   "metadata": {},
   "source": [
    "#### For multiple branch"
   ]
  },
  {
   "cell_type": "markdown",
   "id": "5661e013",
   "metadata": {},
   "source": [
    "#### 1. Check branch"
   ]
  },
  {
   "cell_type": "code",
   "execution_count": null,
   "id": "256066f4",
   "metadata": {},
   "outputs": [],
   "source": [
    "git branch"
   ]
  },
  {
   "cell_type": "markdown",
   "id": "425fc40a",
   "metadata": {},
   "source": [
    "#### 2. create new sub branch"
   ]
  },
  {
   "cell_type": "code",
   "execution_count": null,
   "id": "0a9e0dff",
   "metadata": {},
   "outputs": [],
   "source": [
    "git checkout -b branch_name\n",
    "example:\n",
    "    git checkout -b eda\n",
    "    git checkout -b feature_engineering\n",
    "    git checkout -b outliers\n",
    "    git checkout -b features_selection"
   ]
  },
  {
   "cell_type": "markdown",
   "id": "b3a053ff",
   "metadata": {},
   "source": [
    "#### 3. switch to new branch/ sub branch"
   ]
  },
  {
   "cell_type": "code",
   "execution_count": null,
   "id": "33602761",
   "metadata": {},
   "outputs": [],
   "source": [
    "git checkout branch_name\n",
    "example:\n",
    "    main_ branch>> sub_branch\n",
    "    git checkout eda"
   ]
  },
  {
   "cell_type": "markdown",
   "id": "1f8ba801",
   "metadata": {},
   "source": [
    "#### 4. Delete sub branch"
   ]
  },
  {
   "cell_type": "code",
   "execution_count": null,
   "id": "66e2811d",
   "metadata": {},
   "outputs": [],
   "source": [
    "git branch -d sub_branch\n",
    "example:\n",
    "    git branch -d eda\n",
    "# In case of not fully merge\n",
    ">> git_branch - D feature_engineering"
   ]
  },
  {
   "cell_type": "markdown",
   "id": "c32cb03b",
   "metadata": {},
   "source": [
    "#### 5. Pull"
   ]
  },
  {
   "cell_type": "code",
   "execution_count": null,
   "id": "7c14fc1b",
   "metadata": {},
   "outputs": [],
   "source": [
    "git pull origin main"
   ]
  },
  {
   "cell_type": "markdown",
   "id": "94ae2011",
   "metadata": {},
   "source": [
    "#### 6. .gitignore"
   ]
  },
  {
   "cell_type": "code",
   "execution_count": null,
   "id": "d99b3bfc",
   "metadata": {},
   "outputs": [],
   "source": [
    "to ignore datafiles\n",
    "# procedure\n",
    "1) Open vs code\n",
    "2) create file\n",
    "example: .gitignore\n",
    "         In file write:\n",
    "            *.csv # ignore all csv file\n",
    "            *.pdf\n",
    "            *.json\n",
    "            *.txt"
   ]
  }
 ],
 "metadata": {
  "kernelspec": {
   "display_name": "Python 3 (ipykernel)",
   "language": "python",
   "name": "python3"
  },
  "language_info": {
   "codemirror_mode": {
    "name": "ipython",
    "version": 3
   },
   "file_extension": ".py",
   "mimetype": "text/x-python",
   "name": "python",
   "nbconvert_exporter": "python",
   "pygments_lexer": "ipython3",
   "version": "3.9.7"
  }
 },
 "nbformat": 4,
 "nbformat_minor": 5
}
